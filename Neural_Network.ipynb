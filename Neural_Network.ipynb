{
 "cells": [
  {
   "cell_type": "code",
   "execution_count": 2,
   "id": "ae4893de-7f6a-48b8-81c1-5a0d9e8e1e8a",
   "metadata": {},
   "outputs": [],
   "source": [
    "import numpy as np"
   ]
  },
  {
   "cell_type": "code",
   "execution_count": 3,
   "id": "543ae160-871e-4da5-9dcd-db4739e636a0",
   "metadata": {},
   "outputs": [],
   "source": [
    "def initialize_parameters(layer_dim, seed = 3):\n",
    "\n",
    "    \"\"\"\n",
    "    Arguments:\n",
    "    layer_dim: Array with the dimensions of each layer of the network\n",
    "    seed: random seed\n",
    "    \n",
    "    Return:\n",
    "    W: weight matrix (n_l, n_l-1)\n",
    "    b: bias vector (n_l, 1)\n",
    "    \"\"\"\n",
    "\n",
    "    np.random.seed(seed)\n",
    "    \n",
    "    parameters = {}\n",
    "    \n",
    "    L = len(layer_dim) # Layers in the network\n",
    "    \n",
    "    for l in range(1, L):\n",
    "        parameters[\"W\" + str(l)] = np.random.randn(layer_dim[l], layer_dim[l-1]) * 0.01\n",
    "        parameters[\"b\" + str(l)] = np.zeros((layer_dim[l], 1))\n",
    "\n",
    "    return parameters"
   ]
  },
  {
   "cell_type": "markdown",
   "id": "cafbbcc1-d3b6-49e4-ac1c-5b6caa3ec8dc",
   "metadata": {},
   "source": [
    "**This is an example for Neural Network**"
   ]
  },
  {
   "cell_type": "markdown",
   "id": "f0f4fa6e-e478-48aa-b208-2160c1e054fd",
   "metadata": {},
   "source": [
    "\n",
    "<img src=\"Images/1.png\" width=\"600\">   "
   ]
  },
  {
   "cell_type": "code",
   "execution_count": 26,
   "id": "86df5b4a-9dd9-4078-b1e9-dde3d0890a1d",
   "metadata": {},
   "outputs": [
    {
     "name": "stdout",
     "output_type": "stream",
     "text": [
      "{'W1': array([[ 0.01788628,  0.0043651 ,  0.00096497],\n",
      "       [-0.01863493, -0.00277388, -0.00354759],\n",
      "       [-0.00082741, -0.00627001, -0.00043818],\n",
      "       [-0.00477218, -0.01313865,  0.00884622],\n",
      "       [ 0.00881318,  0.01709573,  0.00050034]]), 'b1': array([[0.],\n",
      "       [0.],\n",
      "       [0.],\n",
      "       [0.],\n",
      "       [0.]]), 'W2': array([[-0.00404677, -0.0054536 , -0.01546477,  0.00982367, -0.01101068],\n",
      "       [-0.01185047, -0.0020565 ,  0.01486148,  0.00236716, -0.01023785],\n",
      "       [-0.00712993,  0.00625245, -0.00160513, -0.00768836, -0.00230031],\n",
      "       [ 0.00745056,  0.01976111, -0.01244123, -0.00626417, -0.00803766],\n",
      "       [-0.02419083, -0.00923792, -0.01023876,  0.01123978, -0.00131914]]), 'b2': array([[0.],\n",
      "       [0.],\n",
      "       [0.],\n",
      "       [0.],\n",
      "       [0.]]), 'W3': array([[-0.01623285,  0.00646675, -0.00356271, -0.01743141, -0.0059665 ],\n",
      "       [-0.00588594, -0.00873882,  0.00029714, -0.02248258, -0.00267762],\n",
      "       [ 0.01013183,  0.00852798,  0.01108187,  0.01119391,  0.01487543]]), 'b3': array([[0.],\n",
      "       [0.],\n",
      "       [0.]]), 'W4': array([[-0.01118301,  0.00845833, -0.0186089 ]]), 'b4': array([[0.]])}\n",
      "Dimensions of W1 is: (5, 3)\n",
      "Dimensions of b1 is: (5, 1)\n",
      "Dimensions of W2 is: (5, 5)\n",
      "Dimensions of b2 is: (5, 1)\n",
      "Dimensions of W3 is: (3, 5)\n",
      "Dimensions of b3 is: (3, 1)\n",
      "Dimensions of W4 is: (1, 3)\n",
      "Dimensions of b4 is: (1, 1)\n"
     ]
    }
   ],
   "source": [
    "# Test with the sample NN\n",
    "parameters = initialize_parameters([3,5,5,3,1])\n",
    "print(parameters)\n",
    "for i, j in enumerate(parameters):\n",
    "    print(f\"Dimensions of {j} is: {parameters[j].shape}\")"
   ]
  }
 ],
 "metadata": {
  "kernelspec": {
   "display_name": "Python 3 (ipykernel)",
   "language": "python",
   "name": "python3"
  },
  "language_info": {
   "codemirror_mode": {
    "name": "ipython",
    "version": 3
   },
   "file_extension": ".py",
   "mimetype": "text/x-python",
   "name": "python",
   "nbconvert_exporter": "python",
   "pygments_lexer": "ipython3",
   "version": "3.12.4"
  }
 },
 "nbformat": 4,
 "nbformat_minor": 5
}
