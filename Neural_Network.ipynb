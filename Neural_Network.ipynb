{
 "cells": [
  {
   "cell_type": "code",
   "execution_count": 1,
   "id": "ae4893de-7f6a-48b8-81c1-5a0d9e8e1e8a",
   "metadata": {},
   "outputs": [],
   "source": [
    "import numpy as np"
   ]
  },
  {
   "cell_type": "markdown",
   "id": "714d71a0-f880-406e-85b4-380e8b7d67aa",
   "metadata": {},
   "source": [
    "## Initialize Parameters for L Neural Network"
   ]
  },
  {
   "cell_type": "code",
   "execution_count": 3,
   "id": "543ae160-871e-4da5-9dcd-db4739e636a0",
   "metadata": {},
   "outputs": [],
   "source": [
    "def initialize_parameters(layer_dim, seed = 3):\n",
    "\n",
    "    \"\"\"\n",
    "    Arguments:\n",
    "    layer_dim: Array with the dimensions of each layer of the network\n",
    "    seed: random seed\n",
    "    \n",
    "    Return:\n",
    "    W: weight matrix (n_l, n_l-1)\n",
    "    b: bias vector (n_l, 1)\n",
    "    \n",
    "    \"\"\"\n",
    "\n",
    "    np.random.seed(seed)\n",
    "    \n",
    "    parameters = {}\n",
    "    \n",
    "    L = len(layer_dim) # Layers in the network\n",
    "    \n",
    "    for l in range(1, L):\n",
    "        parameters[\"W\" + str(l)] = np.random.randn(layer_dim[l], layer_dim[l-1]) * 0.01\n",
    "        parameters[\"b\" + str(l)] = np.zeros((layer_dim[l], 1))\n",
    "\n",
    "    return parameters"
   ]
  },
  {
   "cell_type": "markdown",
   "id": "cafbbcc1-d3b6-49e4-ac1c-5b6caa3ec8dc",
   "metadata": {},
   "source": [
    "**This is an example for Neural Network**"
   ]
  },
  {
   "cell_type": "markdown",
   "id": "f0f4fa6e-e478-48aa-b208-2160c1e054fd",
   "metadata": {},
   "source": [
    "\n",
    "<img src=\"Images/1.png\" width=\"600\">   "
   ]
  },
  {
   "cell_type": "markdown",
   "id": "8fc1c46c-a5c0-4f60-9baf-85e7cdcfc894",
   "metadata": {},
   "source": [
    "## Forward Propagation"
   ]
  },
  {
   "cell_type": "markdown",
   "id": "c0e645aa-0d47-4bdf-a1a2-570b9439c3e0",
   "metadata": {},
   "source": [
    "<img src=\"Images/2.png\" width=\"600\">  "
   ]
  },
  {
   "cell_type": "markdown",
   "id": "739a69e8-2f1f-4fb9-85cc-50cb5fd29341",
   "metadata": {},
   "source": [
    "<img src=\"Images/3.png\" width=\"600\">  "
   ]
  },
  {
   "cell_type": "code",
   "execution_count": 9,
   "id": "8abf5159-30f4-476e-8f85-a616bb2bae79",
   "metadata": {},
   "outputs": [],
   "source": [
    "def linear_forward(A, W, b):\n",
    "\n",
    "    \"\"\"\n",
    "    Arguments\n",
    "    A: Values form the previous layer (A0 is the input layer with X values)\n",
    "    W: weight matrix\n",
    "    b: bias vector\n",
    "    \n",
    "    Return\n",
    "    Z: Preactivaction parameter\n",
    "    cache: a python tuple containing \"A\", \"W\" and \"b\" ; stored for computing the backward pass\n",
    "    \n",
    "    \"\"\"\n",
    "\n",
    "    Z = np.dot(W, A) + b\n",
    "\n",
    "    cache = (A, W, b)\n",
    "\n",
    "    return Z, cache"
   ]
  },
  {
   "cell_type": "code",
   "execution_count": 10,
   "id": "4cc890e3-7f87-4f34-9bef-43adf1b1a314",
   "metadata": {},
   "outputs": [],
   "source": [
    "# GRADED FUNCTION: linear_activation_forward\n",
    "\n",
    "def linear_activation_forward(A_prev, W, b, activation):\n",
    "    \"\"\"\n",
    "    Arguments\n",
    "    A_prev: activations from previous layer (or input data)\n",
    "    W: weights matrix\n",
    "    b: bias vector\n",
    "    activation: the activation to be used in this layer, stored as a text string: \"sigmoid\" or \"relu\"\n",
    "\n",
    "    Returns:\n",
    "    A: the output of the activation function\n",
    "    cache: a python tuple containing \"linear_cache\" and \"activation_cache\" stored for computing the backward pass\n",
    "    \"\"\"\n",
    "    \n",
    "    if activation == \"sigmoid\":\n",
    "        Z, linear_cache = linear_forward(A_prev, W, b)\n",
    "        A, activation_cache = (1/(1+np.exp(-Z)), Z)\n",
    "        \n",
    "    elif activation == \"relu\":                      \n",
    "        Z, linear_cache = linear_forward(A_prev, W, b)\n",
    "        A, activation_cache = (np.maximum(0, Z), Z)\n",
    "        \n",
    "    cache = (linear_cache, activation_cache)\n",
    "\n",
    "    return A, cache"
   ]
  },
  {
   "cell_type": "code",
   "execution_count": 11,
   "id": "7b439549-28ba-4d5c-a06c-590d8da40569",
   "metadata": {},
   "outputs": [],
   "source": [
    "def L_model_forward(X, parameters):\n",
    "    \"\"\"\n",
    "    Arguments\n",
    "    X: data\n",
    "    parameters: output of initialize_parameters()\n",
    "    \n",
    "    Returns:\n",
    "    AL: activation value from the output (last) layer\n",
    "    caches: list of caches containing: every cache of linear_activation_forward() (there are L of them, indexed from 0 to L-1)\n",
    "    \"\"\"\n",
    "\n",
    "    caches = []\n",
    "    A = X\n",
    "    L = len(parameters) // 2                  # number of layers in the neural network\n",
    "    \n",
    "    # Implement [LINEAR -> RELU]*(L-1). Add \"cache\" to the \"caches\" list.\n",
    "    # The for loop starts at 1 because layer 0 is the input\n",
    "    for l in range(1, L):\n",
    "        A_prev = A \n",
    "        W = parameters[f\"W{l}\"]\n",
    "        b = parameters[f\"b{l}\"]\n",
    "        A, cache = linear_activation_forward(A_prev, W, b, activation=\"relu\")\n",
    "        caches.append(cache)\n",
    "        \n",
    "    \n",
    "    \n",
    "    # Implement LINEAR -> SIGMOID. Add \"cache\" to the \"caches\" list.\n",
    "    W = parameters[f\"W{L}\"]\n",
    "    b = parameters[f\"b{L}\"]\n",
    "    AL, cache = linear_activation_forward(A, W, b, activation=\"sigmoid\")\n",
    "    caches.append(cache)\n",
    "  \n",
    "          \n",
    "    return AL, caches"
   ]
  },
  {
   "cell_type": "markdown",
   "id": "fee56b09-8f4f-403e-a71d-958908ed02a2",
   "metadata": {},
   "source": [
    "## Cost Function"
   ]
  },
  {
   "cell_type": "markdown",
   "id": "667ae756-bc26-4303-9e7c-62212946aec1",
   "metadata": {},
   "source": [
    "<img src=\"Images/4.png\" width=\"600\">  "
   ]
  },
  {
   "cell_type": "code",
   "execution_count": 14,
   "id": "9f46d588-a543-49b2-8421-1910811dab7c",
   "metadata": {},
   "outputs": [],
   "source": [
    "def compute_cost(AL, Y):\n",
    "    \"\"\"\n",
    "    Implement the cost function defined by equation (7).\n",
    "\n",
    "    Arguments:\n",
    "    AL -- probability vector corresponding to your label predictions\n",
    "    Y -- true \"label\" vector \n",
    "\n",
    "    Returns:\n",
    "    cost -- cross-entropy cost\n",
    "    \"\"\"\n",
    "    \n",
    "    m = Y.shape[1]\n",
    "    \n",
    "    cost = -1/m * np.sum(Y * np.log(AL) + (1 - Y) * np.log(1 - AL))\n",
    "         \n",
    "    cost = np.squeeze(cost)      # To make sure your cost's shape is what we expect (e.g. this turns [[17]] into 17).\n",
    "\n",
    "    return cost"
   ]
  },
  {
   "cell_type": "markdown",
   "id": "3614f4e5-a22b-4907-84e3-a6040daa4181",
   "metadata": {},
   "source": [
    "## Backwward Propagation"
   ]
  },
  {
   "cell_type": "markdown",
   "id": "be4b7e95-93b8-4ba4-aea2-8e97c8be12dd",
   "metadata": {},
   "source": [
    "<img src=\"Images/5.png\" width=\"600\">  "
   ]
  }
 ],
 "metadata": {
  "kernelspec": {
   "display_name": "Python 3 (ipykernel)",
   "language": "python",
   "name": "python3"
  },
  "language_info": {
   "codemirror_mode": {
    "name": "ipython",
    "version": 3
   },
   "file_extension": ".py",
   "mimetype": "text/x-python",
   "name": "python",
   "nbconvert_exporter": "python",
   "pygments_lexer": "ipython3",
   "version": "3.12.4"
  }
 },
 "nbformat": 4,
 "nbformat_minor": 5
}
